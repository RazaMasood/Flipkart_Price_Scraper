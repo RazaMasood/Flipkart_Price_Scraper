{
 "cells": [
  {
   "attachments": {},
   "cell_type": "markdown",
   "metadata": {},
   "source": [
    "## Importing Required Libraries"
   ]
  },
  {
   "cell_type": "code",
   "execution_count": 1,
   "metadata": {},
   "outputs": [],
   "source": [
    "from selenium import webdriver\n",
    "from selenium.webdriver.chrome.service import Service\n",
    "from webdriver_manager.chrome import ChromeDriverManager\n",
    "from selenium.webdriver.common.by import By\n",
    "import pandas as pd"
   ]
  },
  {
   "attachments": {},
   "cell_type": "markdown",
   "metadata": {},
   "source": [
    "## Setting up Selenium Web Driver"
   ]
  },
  {
   "cell_type": "code",
   "execution_count": 2,
   "metadata": {},
   "outputs": [],
   "source": [
    "driver = webdriver.Chrome(service = Service(ChromeDriverManager().install()))\n",
    "driver.get('https://www.flipkart.com/')"
   ]
  },
  {
   "attachments": {},
   "cell_type": "markdown",
   "metadata": {},
   "source": [
    "## Searching for Mobile Phones"
   ]
  },
  {
   "cell_type": "code",
   "execution_count": 3,
   "metadata": {},
   "outputs": [],
   "source": [
    "text_box = driver.find_element(By.CLASS_NAME, '_3704LK')\n",
    "text_box.send_keys('Mobile Phones')\n",
    "text_box.submit()"
   ]
  },
  {
   "attachments": {},
   "cell_type": "markdown",
   "metadata": {},
   "source": [
    "## Scraping Product Names and Prices"
   ]
  },
  {
   "cell_type": "code",
   "execution_count": 7,
   "metadata": {},
   "outputs": [
    {
     "name": "stdout",
     "output_type": "stream",
     "text": [
      "The price of APPLE iPhone 14 (Starlight, 128 GB) is ₹65,999.\n",
      "The price of SAMSUNG Galaxy F13 (Nightsky Green, 64 GB) is ₹9,699.\n",
      "The price of POCO C50 (Royal Blue, 32 GB) is ₹5,749.\n",
      "The price of itel It2171 is ₹999.\n",
      "The price of POCO C50 (Country Green, 32 GB) is ₹5,749.\n",
      "The price of SAMSUNG Galaxy F13 (Waterfall Blue, 64 GB) is ₹9,699.\n",
      "The price of SAMSUNG Galaxy F13 (Sunrise Copper, 64 GB) is ₹9,699.\n",
      "The price of itel Power110Neo is ₹1,325.\n",
      "The price of APPLE iPhone 14 (Purple, 128 GB) is ₹65,999.\n",
      "The price of REDMI 10 (Pacific Blue, 64 GB) is ₹9,299.\n",
      "The price of SAMSUNG Galaxy F13 (Waterfall Blue, 128 GB) is ₹10,699.\n",
      "The price of SAMSUNG Galaxy F13 (Nightsky Green, 128 GB) is ₹10,699.\n",
      "The price of MOTOROLA e13 (Aurora Green, 64 GB) is ₹7,749.\n",
      "The price of REDMI 10 (Shadow Black, 64 GB) is ₹9,299.\n",
      "The price of APPLE iPhone 14 (Blue, 128 GB) is ₹65,999.\n",
      "The price of Infinix HOT 20 Play (Aurora Green, 64 GB) is ₹8,199.\n",
      "The price of Infinix HOT 20 Play (Luna Blue, 64 GB) is ₹8,199.\n",
      "The price of REDMI 10 (Caribbean Green, 64 GB) is ₹9,299.\n",
      "The price of Infinix HOT 20 Play (Racing Black, 64 GB) is ₹8,199.\n",
      "The price of SAMSUNG Galaxy F23 5G (Aqua Blue, 128 GB) is ₹14,999.\n",
      "The price of SAMSUNG Galaxy F23 5G (Copper Blush, 128 GB) is ₹14,999.\n",
      "The price of REDMI 10 (Midnight Black, 64 GB) is ₹9,299.\n",
      "The price of Infinix HOT 20 Play (Fantasy Purple, 64 GB) is ₹8,199.\n",
      "The price of APPLE iPhone 14 Plus (Midnight, 128 GB) is ₹73,999.\n"
     ]
    }
   ],
   "source": [
    "dict_for_product = {}\n",
    "\n",
    "\n",
    "product_names = driver.find_elements(By.CLASS_NAME, '_4rR01T')\n",
    "product_prices = driver.find_elements(By.CLASS_NAME, '_1_WHN1')\n",
    "\n",
    "for index, item in enumerate(product_names, 0):\n",
    "    dict_for_product[item.text] = product_prices[index].text\n",
    "\n",
    "\n",
    "\n",
    "for name, price in dict_for_product.items():\n",
    "    print(f\"The price of {name} is {price}.\") "
   ]
  },
  {
   "attachments": {},
   "cell_type": "markdown",
   "metadata": {},
   "source": [
    "## Create a pandas DataFrame from the dictionary"
   ]
  },
  {
   "cell_type": "code",
   "execution_count": 8,
   "metadata": {},
   "outputs": [],
   "source": [
    "df = pd.DataFrame(list(dict_for_product.items()), columns=['Product', 'Price'])"
   ]
  },
  {
   "attachments": {},
   "cell_type": "markdown",
   "metadata": {},
   "source": [
    "## Print the DataFrame"
   ]
  },
  {
   "cell_type": "code",
   "execution_count": 9,
   "metadata": {},
   "outputs": [
    {
     "data": {
      "text/html": [
       "<div>\n",
       "<style scoped>\n",
       "    .dataframe tbody tr th:only-of-type {\n",
       "        vertical-align: middle;\n",
       "    }\n",
       "\n",
       "    .dataframe tbody tr th {\n",
       "        vertical-align: top;\n",
       "    }\n",
       "\n",
       "    .dataframe thead th {\n",
       "        text-align: right;\n",
       "    }\n",
       "</style>\n",
       "<table border=\"1\" class=\"dataframe\">\n",
       "  <thead>\n",
       "    <tr style=\"text-align: right;\">\n",
       "      <th></th>\n",
       "      <th>Product</th>\n",
       "      <th>Price</th>\n",
       "    </tr>\n",
       "  </thead>\n",
       "  <tbody>\n",
       "    <tr>\n",
       "      <th>0</th>\n",
       "      <td>APPLE iPhone 14 (Starlight, 128 GB)</td>\n",
       "      <td>₹65,999</td>\n",
       "    </tr>\n",
       "    <tr>\n",
       "      <th>1</th>\n",
       "      <td>SAMSUNG Galaxy F13 (Nightsky Green, 64 GB)</td>\n",
       "      <td>₹9,699</td>\n",
       "    </tr>\n",
       "    <tr>\n",
       "      <th>2</th>\n",
       "      <td>POCO C50 (Royal Blue, 32 GB)</td>\n",
       "      <td>₹5,749</td>\n",
       "    </tr>\n",
       "    <tr>\n",
       "      <th>3</th>\n",
       "      <td>itel It2171</td>\n",
       "      <td>₹999</td>\n",
       "    </tr>\n",
       "    <tr>\n",
       "      <th>4</th>\n",
       "      <td>POCO C50 (Country Green, 32 GB)</td>\n",
       "      <td>₹5,749</td>\n",
       "    </tr>\n",
       "    <tr>\n",
       "      <th>5</th>\n",
       "      <td>SAMSUNG Galaxy F13 (Waterfall Blue, 64 GB)</td>\n",
       "      <td>₹9,699</td>\n",
       "    </tr>\n",
       "    <tr>\n",
       "      <th>6</th>\n",
       "      <td>SAMSUNG Galaxy F13 (Sunrise Copper, 64 GB)</td>\n",
       "      <td>₹9,699</td>\n",
       "    </tr>\n",
       "    <tr>\n",
       "      <th>7</th>\n",
       "      <td>itel Power110Neo</td>\n",
       "      <td>₹1,325</td>\n",
       "    </tr>\n",
       "    <tr>\n",
       "      <th>8</th>\n",
       "      <td>APPLE iPhone 14 (Purple, 128 GB)</td>\n",
       "      <td>₹65,999</td>\n",
       "    </tr>\n",
       "    <tr>\n",
       "      <th>9</th>\n",
       "      <td>REDMI 10 (Pacific Blue, 64 GB)</td>\n",
       "      <td>₹9,299</td>\n",
       "    </tr>\n",
       "    <tr>\n",
       "      <th>10</th>\n",
       "      <td>SAMSUNG Galaxy F13 (Waterfall Blue, 128 GB)</td>\n",
       "      <td>₹10,699</td>\n",
       "    </tr>\n",
       "    <tr>\n",
       "      <th>11</th>\n",
       "      <td>SAMSUNG Galaxy F13 (Nightsky Green, 128 GB)</td>\n",
       "      <td>₹10,699</td>\n",
       "    </tr>\n",
       "    <tr>\n",
       "      <th>12</th>\n",
       "      <td>MOTOROLA e13 (Aurora Green, 64 GB)</td>\n",
       "      <td>₹7,749</td>\n",
       "    </tr>\n",
       "    <tr>\n",
       "      <th>13</th>\n",
       "      <td>REDMI 10 (Shadow Black, 64 GB)</td>\n",
       "      <td>₹9,299</td>\n",
       "    </tr>\n",
       "    <tr>\n",
       "      <th>14</th>\n",
       "      <td>APPLE iPhone 14 (Blue, 128 GB)</td>\n",
       "      <td>₹65,999</td>\n",
       "    </tr>\n",
       "    <tr>\n",
       "      <th>15</th>\n",
       "      <td>Infinix HOT 20 Play (Aurora Green, 64 GB)</td>\n",
       "      <td>₹8,199</td>\n",
       "    </tr>\n",
       "    <tr>\n",
       "      <th>16</th>\n",
       "      <td>Infinix HOT 20 Play (Luna Blue, 64 GB)</td>\n",
       "      <td>₹8,199</td>\n",
       "    </tr>\n",
       "    <tr>\n",
       "      <th>17</th>\n",
       "      <td>REDMI 10 (Caribbean Green, 64 GB)</td>\n",
       "      <td>₹9,299</td>\n",
       "    </tr>\n",
       "    <tr>\n",
       "      <th>18</th>\n",
       "      <td>Infinix HOT 20 Play (Racing Black, 64 GB)</td>\n",
       "      <td>₹8,199</td>\n",
       "    </tr>\n",
       "    <tr>\n",
       "      <th>19</th>\n",
       "      <td>SAMSUNG Galaxy F23 5G (Aqua Blue, 128 GB)</td>\n",
       "      <td>₹14,999</td>\n",
       "    </tr>\n",
       "    <tr>\n",
       "      <th>20</th>\n",
       "      <td>SAMSUNG Galaxy F23 5G (Copper Blush, 128 GB)</td>\n",
       "      <td>₹14,999</td>\n",
       "    </tr>\n",
       "    <tr>\n",
       "      <th>21</th>\n",
       "      <td>REDMI 10 (Midnight Black, 64 GB)</td>\n",
       "      <td>₹9,299</td>\n",
       "    </tr>\n",
       "    <tr>\n",
       "      <th>22</th>\n",
       "      <td>Infinix HOT 20 Play (Fantasy Purple, 64 GB)</td>\n",
       "      <td>₹8,199</td>\n",
       "    </tr>\n",
       "    <tr>\n",
       "      <th>23</th>\n",
       "      <td>APPLE iPhone 14 Plus (Midnight, 128 GB)</td>\n",
       "      <td>₹73,999</td>\n",
       "    </tr>\n",
       "  </tbody>\n",
       "</table>\n",
       "</div>"
      ],
      "text/plain": [
       "                                         Product    Price\n",
       "0            APPLE iPhone 14 (Starlight, 128 GB)  ₹65,999\n",
       "1     SAMSUNG Galaxy F13 (Nightsky Green, 64 GB)   ₹9,699\n",
       "2                   POCO C50 (Royal Blue, 32 GB)   ₹5,749\n",
       "3                                    itel It2171     ₹999\n",
       "4                POCO C50 (Country Green, 32 GB)   ₹5,749\n",
       "5     SAMSUNG Galaxy F13 (Waterfall Blue, 64 GB)   ₹9,699\n",
       "6     SAMSUNG Galaxy F13 (Sunrise Copper, 64 GB)   ₹9,699\n",
       "7                               itel Power110Neo   ₹1,325\n",
       "8               APPLE iPhone 14 (Purple, 128 GB)  ₹65,999\n",
       "9                 REDMI 10 (Pacific Blue, 64 GB)   ₹9,299\n",
       "10   SAMSUNG Galaxy F13 (Waterfall Blue, 128 GB)  ₹10,699\n",
       "11   SAMSUNG Galaxy F13 (Nightsky Green, 128 GB)  ₹10,699\n",
       "12            MOTOROLA e13 (Aurora Green, 64 GB)   ₹7,749\n",
       "13                REDMI 10 (Shadow Black, 64 GB)   ₹9,299\n",
       "14                APPLE iPhone 14 (Blue, 128 GB)  ₹65,999\n",
       "15     Infinix HOT 20 Play (Aurora Green, 64 GB)   ₹8,199\n",
       "16        Infinix HOT 20 Play (Luna Blue, 64 GB)   ₹8,199\n",
       "17             REDMI 10 (Caribbean Green, 64 GB)   ₹9,299\n",
       "18     Infinix HOT 20 Play (Racing Black, 64 GB)   ₹8,199\n",
       "19     SAMSUNG Galaxy F23 5G (Aqua Blue, 128 GB)  ₹14,999\n",
       "20  SAMSUNG Galaxy F23 5G (Copper Blush, 128 GB)  ₹14,999\n",
       "21              REDMI 10 (Midnight Black, 64 GB)   ₹9,299\n",
       "22   Infinix HOT 20 Play (Fantasy Purple, 64 GB)   ₹8,199\n",
       "23       APPLE iPhone 14 Plus (Midnight, 128 GB)  ₹73,999"
      ]
     },
     "execution_count": 9,
     "metadata": {},
     "output_type": "execute_result"
    }
   ],
   "source": [
    "df"
   ]
  }
 ],
 "metadata": {
  "kernelspec": {
   "display_name": "Python 3",
   "language": "python",
   "name": "python3"
  },
  "language_info": {
   "codemirror_mode": {
    "name": "ipython",
    "version": 3
   },
   "file_extension": ".py",
   "mimetype": "text/x-python",
   "name": "python",
   "nbconvert_exporter": "python",
   "pygments_lexer": "ipython3",
   "version": "3.11.1"
  },
  "orig_nbformat": 4
 },
 "nbformat": 4,
 "nbformat_minor": 2
}
